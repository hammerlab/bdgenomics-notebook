{
 "metadata": {
  "name": ""
 },
 "nbformat": 3,
 "nbformat_minor": 0,
 "worksheets": [
  {
   "cells": [
    {
     "cell_type": "code",
     "collapsed": false,
     "input": [
      "import json\n",
      "import avro.protocol as apr\n",
      "from avro.datafile import DataFileReader, DataFileWriter\n",
      "from avro.io import DatumReader, DatumWriter"
     ],
     "language": "python",
     "metadata": {},
     "outputs": [],
     "prompt_number": 41
    },
    {
     "cell_type": "markdown",
     "metadata": {},
     "source": [
      "# Loading the Protocol\n",
      "[ADAM's primary records](https://github.com/bigdatagenomics/adam/blob/master/adam-format/src/main/resources/avro/adam.avdl) are described using the [Avro interface description language](http://avro.apache.org/docs/1.7.5/idl.html). In order to be parsed by Python's Avro library, the IDL representation must be transformed to the standard JSON Avro Protocol representation using avro-tools [(described here)](http://avro.apache.org/docs/1.7.5/gettingstartedjava.html). \n",
      "\n",
      "Many times the IDL representation is much easier to read than the JSON representation, so it maybe worth pulling up the link above and following along there.\n",
      "\n",
      "Once this is done, the protocol may be loaded and parsed by the Python library. The API isn't documented (well, it may be, and probably is, but I cannot find it), but the code is easy to read. We want to inspect the types (which will include records) that ADAM uses."
     ]
    },
    {
     "cell_type": "code",
     "collapsed": false,
     "input": [
      "protocol = apr.parse(open(\"adam.avpr\", \"r\").read()) \n",
      "[tp for tp in protocol.types_dict if protocol.types_dict[tp].type == 'record'] # we're ignoring enums and other schema types"
     ],
     "language": "python",
     "metadata": {},
     "outputs": [
      {
       "metadata": {},
       "output_type": "pyout",
       "prompt_number": 15,
       "text": [
        "[u'VariantCallingAnnotations',\n",
        " u'ADAMVariant',\n",
        " u'ADAMNestedPileup',\n",
        " u'ADAMContig',\n",
        " u'ADAMNucleotideContigFragment',\n",
        " u'ADAMGenotype',\n",
        " u'ADAMDatabaseVariantAnnotation',\n",
        " u'ADAMPileup',\n",
        " u'ADAMRecord',\n",
        " u'VariantEffect']"
       ]
      }
     ],
     "prompt_number": 15
    },
    {
     "cell_type": "markdown",
     "metadata": {},
     "source": [
      "# Understanding ADAM's Datatypes\n",
      "We'll choose the ADAMContig record to look at first. We can inspect the JSON schema of the record, and see that which fields (and their respective types) that record contains. \n",
      "\n",
      "We'll write a few records to a new file, using some arbitrary data (but of the correct type), and then load that file and print the Python representations of those records. This is about all there is to do with these records.\n",
      "\n",
      "### ADAMContig\n",
      "\n",
      "We'll start with the ADAMContig record, which is used to describe regions of DNA that has overlapping reads."
     ]
    },
    {
     "cell_type": "code",
     "collapsed": false,
     "input": [
      "scm = protocol.types_dict['ADAMContig']\n",
      "scm.to_json()"
     ],
     "language": "python",
     "metadata": {},
     "outputs": [
      {
       "metadata": {},
       "output_type": "pyout",
       "prompt_number": 44,
       "text": [
        "{'fields': [{'default': None, 'name': u'contigId', 'type': [u'null', u'int']},\n",
        "  {'default': None, 'name': u'contigName', 'type': [u'null', u'string']},\n",
        "  {'default': None, 'name': u'contigLength', 'type': [u'null', u'long']},\n",
        "  {'default': None, 'name': u'contigMD5', 'type': [u'null', u'string']},\n",
        "  {'default': None, 'name': u'referenceURL', 'type': [u'null', u'string']}],\n",
        " 'name': u'ADAMContig',\n",
        " 'namespace': u'org.bdgenomics.adam.avro',\n",
        " 'type': u'record'}"
       ]
      }
     ],
     "prompt_number": 44
    },
    {
     "cell_type": "code",
     "collapsed": false,
     "input": [
      "ADAM_contig_1 = {'contigId':9230, 'referenceURL':'http://data.dna/223', 'contigName':\"1Nabc\", 'contigLength':7781, 'contigMD5':\"8743b52063cd84097a65d1633f5c74f5\"}\n",
      "ADAM_contig_2 = {'contigId':1234, 'nonsense':\"this won't show up\"}"
     ],
     "language": "python",
     "metadata": {},
     "outputs": [],
     "prompt_number": 17
    },
    {
     "cell_type": "code",
     "collapsed": false,
     "input": [
      "with DataFileWriter(open(\"contigs.avro\", \"w\"), DatumWriter(), scm) as contig_writer:\n",
      "    contig_writer.append(ADAM_contig_1)\n",
      "    contig_writer.append(ADAM_contig_2)"
     ],
     "language": "python",
     "metadata": {},
     "outputs": [],
     "prompt_number": 18
    },
    {
     "cell_type": "code",
     "collapsed": false,
     "input": [
      "with DataFileReader(open(\"contigs.avro\", \"r\"), DatumReader()) as contigs:\n",
      "    for ctg in contigs:\n",
      "        print ctg"
     ],
     "language": "python",
     "metadata": {},
     "outputs": [
      {
       "output_type": "stream",
       "stream": "stdout",
       "text": [
        "{u'contigMD5': u'8743b52063cd84097a65d1633f5c74f5', u'contigId': 9230, u'contigLength': 7781, u'referenceURL': u'http://data.dna/223', u'contigName': u'1Nabc'}\n",
        "{u'contigMD5': None, u'contigId': 1234, u'contigLength': None, u'referenceURL': None, u'contigName': None}\n"
       ]
      }
     ],
     "prompt_number": 19
    },
    {
     "cell_type": "markdown",
     "metadata": {},
     "source": [
      "*To save space for future writes and reads of records, which we'll run in-notebook to create example records and verify that our records are stored properly, we'll use the below function.*"
     ]
    },
    {
     "cell_type": "code",
     "collapsed": false,
     "input": [
      "def write_then_read_records(schema, filename, records):\n",
      "    with DataFileWriter(open(filename, \"w\"), DatumWriter(), schema) as writer:\n",
      "        for record in records:\n",
      "            writer.append(record)\n",
      "    with DataFileReader(open(filename, \"r\"), DatumReader()) as reader:\n",
      "        for record in reader:\n",
      "            print record"
     ],
     "language": "python",
     "metadata": {},
     "outputs": [],
     "prompt_number": 32
    },
    {
     "cell_type": "markdown",
     "metadata": {},
     "source": [
      "### ADAMVariant\n",
      "\n",
      "An ADAMVariant represents a variant (with respect to the reference allele) detected at a given position in a contig.\n"
     ]
    },
    {
     "cell_type": "code",
     "collapsed": false,
     "input": [
      "scm = protocol.types_dict['ADAMVariant']\n",
      "scm.to_json()"
     ],
     "language": "python",
     "metadata": {},
     "outputs": [
      {
       "metadata": {},
       "output_type": "pyout",
       "prompt_number": 24,
       "text": [
        "{'fields': [{'default': None,\n",
        "   'name': u'contig',\n",
        "   'type': [u'null',\n",
        "    {'fields': [{'default': None,\n",
        "       'name': u'contigId',\n",
        "       'type': [u'null', u'int']},\n",
        "      {'default': None, 'name': u'contigName', 'type': [u'null', u'string']},\n",
        "      {'default': None, 'name': u'contigLength', 'type': [u'null', u'long']},\n",
        "      {'default': None, 'name': u'contigMD5', 'type': [u'null', u'string']},\n",
        "      {'default': None,\n",
        "       'name': u'referenceURL',\n",
        "       'type': [u'null', u'string']}],\n",
        "     'name': u'ADAMContig',\n",
        "     'namespace': u'org.bdgenomics.adam.avro',\n",
        "     'type': u'record'}]},\n",
        "  {'default': None, 'name': u'position', 'type': [u'null', u'long']},\n",
        "  {'name': u'referenceAllele', 'type': u'string'},\n",
        "  {'name': u'variantAllele', 'type': u'string'}],\n",
        " 'name': u'ADAMVariant',\n",
        " 'namespace': u'org.bdgenomics.adam.avro',\n",
        " 'type': u'record'}"
       ]
      }
     ],
     "prompt_number": 24
    },
    {
     "cell_type": "code",
     "collapsed": false,
     "input": [
      "ADAM_variant_1 = {'position': 9882L, 'referenceAllele': \"A\", 'variantAllele': \"T\", 'contig': ADAM_contig_1}"
     ],
     "language": "python",
     "metadata": {},
     "outputs": [],
     "prompt_number": 25
    },
    {
     "cell_type": "code",
     "collapsed": false,
     "input": [
      "write_then_read_records(scm, 'variants.avro', [ADAM_variant_1])"
     ],
     "language": "python",
     "metadata": {},
     "outputs": [
      {
       "output_type": "stream",
       "stream": "stdout",
       "text": [
        "{u'numberOfFragmentsInContig': None, u'contigLength': None, u'description': None, u'url': None, u'contigName': None, u'fragmentStartPosition': None, u'fragmentNumber': None, u'contigId': None, u'fragmentSequence': None}\n"
       ]
      }
     ],
     "prompt_number": 36
    },
    {
     "cell_type": "markdown",
     "metadata": {},
     "source": [
      "### ADAMNucleotideContigFragment\n",
      "\n",
      "Next we'll look at an ADAMNucleotideContigFragment, which\u2026\u00a0\n",
      "\n",
      "> stores a contig of nucleotides; this may be a reference chromosome, may be an assembly, may be a BAC. very long contigs (>1Mbp) need to be split into fragments. it seems that they are too long to load in a single go.\n"
     ]
    },
    {
     "cell_type": "code",
     "collapsed": false,
     "input": [
      "scm = protocol.types_dict['ADAMNucleotideContigFragment']\n",
      "scm.to_json()"
     ],
     "language": "python",
     "metadata": {},
     "outputs": [
      {
       "metadata": {},
       "output_type": "pyout",
       "prompt_number": 30,
       "text": [
        "{'fields': [{'default': None,\n",
        "   'name': u'contigName',\n",
        "   'type': [u'null', u'string']},\n",
        "  {'default': None, 'name': u'contigId', 'type': [u'null', u'int']},\n",
        "  {'default': None, 'name': u'description', 'type': [u'null', u'string']},\n",
        "  {'default': None, 'name': u'url', 'type': [u'null', u'string']},\n",
        "  {'default': None, 'name': u'fragmentSequence', 'type': [u'null', u'string']},\n",
        "  {'default': None, 'name': u'contigLength', 'type': [u'null', u'long']},\n",
        "  {'default': None, 'name': u'fragmentNumber', 'type': [u'null', u'int']},\n",
        "  {'default': None,\n",
        "   'name': u'fragmentStartPosition',\n",
        "   'type': [u'null', u'long']},\n",
        "  {'default': None,\n",
        "   'name': u'numberOfFragmentsInContig',\n",
        "   'type': [u'null', u'int']}],\n",
        " 'name': u'ADAMNucleotideContigFragment',\n",
        " 'namespace': u'org.bdgenomics.adam.avro',\n",
        " 'type': u'record'}"
       ]
      }
     ],
     "prompt_number": 30
    },
    {
     "cell_type": "code",
     "collapsed": false,
     "input": [
      "ADAM_nucleotide_contig_frag = {'contigName': \"Jimmy\", 'contigID': 9647, 'description': \"A solid contig, a real workhorse\", \n",
      "                               'url': \"http://contigs.org/9647\", 'fragmentLength': 203,\n",
      "                               'contigLength': 767, 'fragmentNumber': 2, 'fragmentStartPosition': 7789,\n",
      "                               'numberOfFragmentsInContig': 17}"
     ],
     "language": "python",
     "metadata": {},
     "outputs": [],
     "prompt_number": 38
    },
    {
     "cell_type": "code",
     "collapsed": false,
     "input": [
      "write_then_read_records(scm, 'nuc_contig_frag.avro', [ADAM_nucleotide_contig_frag])"
     ],
     "language": "python",
     "metadata": {},
     "outputs": [
      {
       "output_type": "stream",
       "stream": "stdout",
       "text": [
        "{u'numberOfFragmentsInContig': 17, u'contigLength': 767, u'description': u'A solid contig, a real workhorse', u'url': u'http://contigs.org/9647', u'contigName': u'Jimmy', u'fragmentStartPosition': 7789, u'fragmentNumber': 2, u'contigId': None, u'fragmentSequence': None}\n"
       ]
      }
     ],
     "prompt_number": 39
    },
    {
     "cell_type": "markdown",
     "metadata": {},
     "source": [
      "### ADAMPileup\n",
      "\n",
      "ADAMPileup summarizes base calls against a reference sequence of aligned reads with various coverage."
     ]
    },
    {
     "cell_type": "code",
     "collapsed": false,
     "input": [
      "scm = protocol.types_dict['ADAMPileup']\n",
      "scm.to_json()"
     ],
     "language": "python",
     "metadata": {},
     "outputs": [
      {
       "metadata": {},
       "output_type": "pyout",
       "prompt_number": 50,
       "text": [
        "{'fields': [{'default': None,\n",
        "   'name': u'referenceName',\n",
        "   'type': [u'null', u'string']},\n",
        "  {'default': None, 'name': u'referenceId', 'type': [u'null', u'int']},\n",
        "  {'default': None, 'name': u'position', 'type': [u'null', u'long']},\n",
        "  {'default': None, 'name': u'rangeOffset', 'type': [u'null', u'int']},\n",
        "  {'default': None, 'name': u'rangeLength', 'type': [u'null', u'int']},\n",
        "  {'default': None,\n",
        "   'name': u'referenceBase',\n",
        "   'type': [u'null',\n",
        "    {'name': u'Base',\n",
        "     'namespace': u'org.bdgenomics.adam.avro',\n",
        "     'symbols': [u'A',\n",
        "      u'C',\n",
        "      u'T',\n",
        "      u'G',\n",
        "      u'U',\n",
        "      u'N',\n",
        "      u'X',\n",
        "      u'K',\n",
        "      u'M',\n",
        "      u'R',\n",
        "      u'Y',\n",
        "      u'S',\n",
        "      u'W',\n",
        "      u'B',\n",
        "      u'V',\n",
        "      u'H',\n",
        "      u'D'],\n",
        "     'type': 'enum'}]},\n",
        "  {'default': None,\n",
        "   'name': u'readBase',\n",
        "   'type': [u'null', u'org.bdgenomics.adam.avro.Base']},\n",
        "  {'default': None, 'name': u'sangerQuality', 'type': [u'null', u'int']},\n",
        "  {'default': None, 'name': u'mapQuality', 'type': [u'null', u'int']},\n",
        "  {'default': None, 'name': u'numSoftClipped', 'type': [u'null', u'int']},\n",
        "  {'default': None, 'name': u'numReverseStrand', 'type': [u'null', u'int']},\n",
        "  {'default': None, 'name': u'countAtPosition', 'type': [u'null', u'int']},\n",
        "  {'default': None, 'name': u'readName', 'type': [u'null', u'string']},\n",
        "  {'default': None, 'name': u'readStart', 'type': [u'null', u'long']},\n",
        "  {'default': None, 'name': u'readEnd', 'type': [u'null', u'long']},\n",
        "  {'default': None,\n",
        "   'name': u'recordGroupSequencingCenter',\n",
        "   'type': [u'null', u'string']},\n",
        "  {'default': None,\n",
        "   'name': u'recordGroupDescription',\n",
        "   'type': [u'null', u'string']},\n",
        "  {'default': None,\n",
        "   'name': u'recordGroupRunDateEpoch',\n",
        "   'type': [u'null', u'long']},\n",
        "  {'default': None,\n",
        "   'name': u'recordGroupFlowOrder',\n",
        "   'type': [u'null', u'string']},\n",
        "  {'default': None,\n",
        "   'name': u'recordGroupKeySequence',\n",
        "   'type': [u'null', u'string']},\n",
        "  {'default': None,\n",
        "   'name': u'recordGroupLibrary',\n",
        "   'type': [u'null', u'string']},\n",
        "  {'default': None,\n",
        "   'name': u'recordGroupPredictedMedianInsertSize',\n",
        "   'type': [u'null', u'int']},\n",
        "  {'default': None,\n",
        "   'name': u'recordGroupPlatform',\n",
        "   'type': [u'null', u'string']},\n",
        "  {'default': None,\n",
        "   'name': u'recordGroupPlatformUnit',\n",
        "   'type': [u'null', u'string']},\n",
        "  {'default': None,\n",
        "   'name': u'recordGroupSample',\n",
        "   'type': [u'null', u'string']}],\n",
        " 'name': u'ADAMPileup',\n",
        " 'namespace': u'org.bdgenomics.adam.avro',\n",
        " 'type': u'record'}"
       ]
      }
     ],
     "prompt_number": 50
    },
    {
     "cell_type": "code",
     "collapsed": false,
     "input": [
      "ADAM_pileup = {'referenceName': \"Tony\", \"referenceID\": 7837, 'position': 443, 'rangeOffset': 22, 'rangeLength': 778,\n",
      "               'referenceBase': 'C', 'readBase': 'C', 'sangerQuality': 22, 'mapQuality': 19, 'numSoftClipped': 2,\n",
      "               'numReverseStrand': 1, 'countAtPosition': 1, 'readName': \"XYZ\", 'readStart': 223L, 'readEnd': 298L,\n",
      "               'recordGroupSequencingCenter': \"...\", 'recordGroupDescription': \"...\", 'recordGroupRunDateEpoch': 1101028284,\n",
      "               'recordGroupFlowOrder': \"forward\", 'recordGroupKeySequence': \"...\", 'recordGroupLibrary': \"...\",\n",
      "               'recordGroupPredictedMedianInsertSize': 2, 'recordGroupPlatform': \"...\", 'recordGroupPlatformUnit': \"...\",\n",
      "               'recordGroupSample': \"...\"}"
     ],
     "language": "python",
     "metadata": {},
     "outputs": [],
     "prompt_number": 52
    },
    {
     "cell_type": "code",
     "collapsed": false,
     "input": [
      "write_then_read_records(scm, 'pileup.avro', [ADAM_pileup])"
     ],
     "language": "python",
     "metadata": {},
     "outputs": [
      {
       "output_type": "stream",
       "stream": "stdout",
       "text": [
        "{u'referenceId': None, u'countAtPosition': 1, u'recordGroupPlatformUnit': u'...', u'recordGroupSample': u'...', u'recordGroupDescription': u'...', u'recordGroupPredictedMedianInsertSize': 2, u'numSoftClipped': 2, u'sangerQuality': 22, u'mapQuality': 19, u'readStart': 223, u'recordGroupSequencingCenter': u'...', u'referenceName': u'Tony', u'readName': u'XYZ', u'readEnd': 298, u'numReverseStrand': 1, u'recordGroupKeySequence': u'...', u'referenceBase': u'C', u'recordGroupFlowOrder': u'forward', u'rangeOffset': 22, u'recordGroupLibrary': u'...', u'recordGroupPlatform': u'...', u'rangeLength': 778, u'readBase': u'C', u'recordGroupRunDateEpoch': 1101028284, u'position': 443}\n"
       ]
      }
     ],
     "prompt_number": 53
    },
    {
     "cell_type": "markdown",
     "metadata": {},
     "source": [
      "### VariantEffect\n",
      "\n",
      "VariantEffect denotes the effect that a variant allele has on a given gene. It notes the change, if any, in amino acid for a given codon's mutation."
     ]
    },
    {
     "cell_type": "code",
     "collapsed": false,
     "input": [
      "scm = protocol.types_dict['VariantEffect']\n",
      "scm.to_json()"
     ],
     "language": "python",
     "metadata": {},
     "outputs": [
      {
       "metadata": {},
       "output_type": "pyout",
       "prompt_number": 58,
       "text": [
        "{'fields': [{'default': None, 'name': u'hgvs', 'type': [u'null', u'string']},\n",
        "  {'default': None,\n",
        "   'name': u'referenceAminoAcid',\n",
        "   'type': [u'null', u'string']},\n",
        "  {'default': None,\n",
        "   'name': u'alternateAminoAcid',\n",
        "   'type': [u'null', u'string']},\n",
        "  {'default': None, 'name': u'geneId', 'type': [u'null', u'string']},\n",
        "  {'default': None, 'name': u'transcriptId', 'type': [u'null', u'string']}],\n",
        " 'name': u'VariantEffect',\n",
        " 'namespace': u'org.bdgenomics.adam.avro',\n",
        " 'type': u'record'}"
       ]
      }
     ],
     "prompt_number": 58
    },
    {
     "cell_type": "code",
     "collapsed": false,
     "input": [
      "variant_effect = {'referenceAminoAcid': \"PRO\", 'alternateAminoAcid': \"SER\", 'geneId': 'MYO6', 'transcriptId': \"MYO6-001\"}"
     ],
     "language": "python",
     "metadata": {},
     "outputs": [],
     "prompt_number": 59
    },
    {
     "cell_type": "code",
     "collapsed": false,
     "input": [
      "write_then_read_records(scm, 'var_effect.avro', [variant_effect])"
     ],
     "language": "python",
     "metadata": {},
     "outputs": [
      {
       "output_type": "stream",
       "stream": "stdout",
       "text": [
        "{u'transcriptId': u'MYO6-001', u'referenceAminoAcid': u'PRO', u'alternateAminoAcid': u'SER', u'hgvs': None, u'geneId': u'MYO6'}\n"
       ]
      }
     ],
     "prompt_number": 60
    },
    {
     "cell_type": "markdown",
     "metadata": {},
     "source": [
      "### VariantCallingAnnotations"
     ]
    },
    {
     "cell_type": "code",
     "collapsed": false,
     "input": [
      "scm = protocol.types_dict['VariantCallingAnnotations']\n",
      "scm.to_json()"
     ],
     "language": "python",
     "metadata": {},
     "outputs": [
      {
       "metadata": {},
       "output_type": "pyout",
       "prompt_number": 61,
       "text": [
        "{'fields': [{'default': None, 'name': u'readDepth', 'type': [u'null', u'int']},\n",
        "  {'default': None, 'name': u'downsampled', 'type': [u'null', u'boolean']},\n",
        "  {'default': None, 'name': u'baseQRankSum', 'type': [u'null', u'float']},\n",
        "  {'default': None, 'name': u'clippingRankSum', 'type': [u'null', u'float']},\n",
        "  {'default': None,\n",
        "   'name': u'fisherStrandBiasPValue',\n",
        "   'type': [u'null', u'float']},\n",
        "  {'default': None, 'name': u'haplotypeScore', 'type': [u'null', u'float']},\n",
        "  {'default': None,\n",
        "   'name': u'inbreedingCoefficient',\n",
        "   'type': [u'null', u'float']},\n",
        "  {'default': None,\n",
        "   'name': u'alleleCountMLE',\n",
        "   'type': {'items': u'int', 'type': 'array'}},\n",
        "  {'default': None,\n",
        "   'name': u'alleleFrequencyMLE',\n",
        "   'type': {'items': u'int', 'type': 'array'}},\n",
        "  {'default': None, 'name': u'rmsMapQ', 'type': [u'null', u'float']},\n",
        "  {'default': None, 'name': u'mapq0Reads', 'type': [u'null', u'int']},\n",
        "  {'default': None, 'name': u'mqRankSum', 'type': [u'null', u'float']},\n",
        "  {'default': None,\n",
        "   'name': u'usedForNegativeTrainingSet',\n",
        "   'type': [u'null', u'boolean']},\n",
        "  {'default': None,\n",
        "   'name': u'usedForPositiveTrainingSet',\n",
        "   'type': [u'null', u'boolean']},\n",
        "  {'default': None,\n",
        "   'name': u'variantQualityByDepth',\n",
        "   'type': [u'null', u'float']},\n",
        "  {'default': None,\n",
        "   'name': u'readPositionRankSum',\n",
        "   'type': [u'null', u'float']},\n",
        "  {'default': None, 'name': u'vqslod', 'type': [u'null', u'float']},\n",
        "  {'default': None, 'name': u'culprit', 'type': [u'null', u'string']},\n",
        "  {'default': None,\n",
        "   'name': u'variantCallErrorProbability',\n",
        "   'type': [u'null', u'float']},\n",
        "  {'default': True, 'name': u'variantIsPassing', 'type': u'boolean'},\n",
        "  {'default': None,\n",
        "   'name': u'variantFilters',\n",
        "   'type': {'items': u'string', 'type': 'array'}}],\n",
        " 'name': u'VariantCallingAnnotations',\n",
        " 'namespace': u'org.bdgenomics.adam.avro',\n",
        " 'type': u'record'}"
       ]
      }
     ],
     "prompt_number": 61
    },
    {
     "cell_type": "code",
     "collapsed": false,
     "input": [
      "variant_calling_annotations = {'readDepth': 60, 'downSampled': False, 'baseQRankSum': 34.7, 'clippingRankRum': 99.2,\n",
      "                               'fisherStrandBiasPValue': 33.3, 'haplotypeScore': 22.7, 'inbreedingCoefficient': 2.0,\n",
      "                               'alleleCountMLE': [5,1,5,3,2,3,4,9], 'alleleFrequencyMLE': [5,1,5,3,2,3,4,9], 'rmsMapQ': 12.7,\n",
      "                               'mapq0Reads': 19, 'mpRankSum': 276.9, 'usedForNegativeTrainingSet': False, \n",
      "                               'usedForPositiveTrainingSet': True, 'variantQualityByDepth': 11.4, 'readPositionRankSum': 12.3,\n",
      "                               'vqslod': 1.0, 'culprit': \"A\", 'variantCallErrorProbability': 0.14, 'variantIsPassing': True,\n",
      "                               'variantFilters': ['ags', 'mqr']}"
     ],
     "language": "python",
     "metadata": {},
     "outputs": [],
     "prompt_number": 63
    },
    {
     "cell_type": "code",
     "collapsed": false,
     "input": [
      "write_then_read_records(scm, 'var_calling_anno.avro', [variant_calling_annotations])"
     ],
     "language": "python",
     "metadata": {},
     "outputs": [
      {
       "output_type": "stream",
       "stream": "stdout",
       "text": [
        "{u'vqslod': 1.0, u'baseQRankSum': 34.70000076293945, u'mqRankSum': None, u'rmsMapQ': 12.699999809265137, u'alleleCountMLE': [5, 1, 5, 3, 2, 3, 4, 9], u'usedForPositiveTrainingSet': True, u'downsampled': None, u'mapq0Reads': 19, u'alleleFrequencyMLE': [5, 1, 5, 3, 2, 3, 4, 9], u'usedForNegativeTrainingSet': False, u'culprit': u'A', u'variantCallErrorProbability': 0.14000000059604645, u'variantFilters': [u'ags', u'mqr'], u'inbreedingCoefficient': 2.0, u'haplotypeScore': 22.700000762939453, u'variantQualityByDepth': 11.399999618530273, u'readDepth': 60, u'readPositionRankSum': 12.300000190734863, u'variantIsPassing': True, u'fisherStrandBiasPValue': 33.29999923706055, u'clippingRankSum': None}\n"
       ]
      }
     ],
     "prompt_number": 65
    },
    {
     "cell_type": "markdown",
     "metadata": {},
     "source": [
      "### ADAMDatabaseVariantAnnotation"
     ]
    },
    {
     "cell_type": "markdown",
     "metadata": {},
     "source": [
      "### ADAMGenotype"
     ]
    },
    {
     "cell_type": "markdown",
     "metadata": {},
     "source": [
      "### ADAMRecord"
     ]
    },
    {
     "cell_type": "markdown",
     "metadata": {},
     "source": [
      "### ADAMNestedPileup\n",
      "\n",
      "> nested pileup data type - contains reference to list of overlapping reads  \n",
      "> note: cannot be used with databases (e.g. hive/shark)"
     ]
    },
    {
     "cell_type": "code",
     "collapsed": false,
     "input": [
      "scm = protocol.types_dict['ADAMNestedPileup']\n",
      "scm.to_json()"
     ],
     "language": "python",
     "metadata": {},
     "outputs": [
      {
       "metadata": {},
       "output_type": "pyout",
       "prompt_number": 54,
       "text": [
        "{'fields': [{'name': u'pileup',\n",
        "   'type': {'fields': [{'default': None,\n",
        "      'name': u'referenceName',\n",
        "      'type': [u'null', u'string']},\n",
        "     {'default': None, 'name': u'referenceId', 'type': [u'null', u'int']},\n",
        "     {'default': None, 'name': u'position', 'type': [u'null', u'long']},\n",
        "     {'default': None, 'name': u'rangeOffset', 'type': [u'null', u'int']},\n",
        "     {'default': None, 'name': u'rangeLength', 'type': [u'null', u'int']},\n",
        "     {'default': None,\n",
        "      'name': u'referenceBase',\n",
        "      'type': [u'null',\n",
        "       {'name': u'Base',\n",
        "        'namespace': u'org.bdgenomics.adam.avro',\n",
        "        'symbols': [u'A',\n",
        "         u'C',\n",
        "         u'T',\n",
        "         u'G',\n",
        "         u'U',\n",
        "         u'N',\n",
        "         u'X',\n",
        "         u'K',\n",
        "         u'M',\n",
        "         u'R',\n",
        "         u'Y',\n",
        "         u'S',\n",
        "         u'W',\n",
        "         u'B',\n",
        "         u'V',\n",
        "         u'H',\n",
        "         u'D'],\n",
        "        'type': 'enum'}]},\n",
        "     {'default': None,\n",
        "      'name': u'readBase',\n",
        "      'type': [u'null', u'org.bdgenomics.adam.avro.Base']},\n",
        "     {'default': None, 'name': u'sangerQuality', 'type': [u'null', u'int']},\n",
        "     {'default': None, 'name': u'mapQuality', 'type': [u'null', u'int']},\n",
        "     {'default': None, 'name': u'numSoftClipped', 'type': [u'null', u'int']},\n",
        "     {'default': None, 'name': u'numReverseStrand', 'type': [u'null', u'int']},\n",
        "     {'default': None, 'name': u'countAtPosition', 'type': [u'null', u'int']},\n",
        "     {'default': None, 'name': u'readName', 'type': [u'null', u'string']},\n",
        "     {'default': None, 'name': u'readStart', 'type': [u'null', u'long']},\n",
        "     {'default': None, 'name': u'readEnd', 'type': [u'null', u'long']},\n",
        "     {'default': None,\n",
        "      'name': u'recordGroupSequencingCenter',\n",
        "      'type': [u'null', u'string']},\n",
        "     {'default': None,\n",
        "      'name': u'recordGroupDescription',\n",
        "      'type': [u'null', u'string']},\n",
        "     {'default': None,\n",
        "      'name': u'recordGroupRunDateEpoch',\n",
        "      'type': [u'null', u'long']},\n",
        "     {'default': None,\n",
        "      'name': u'recordGroupFlowOrder',\n",
        "      'type': [u'null', u'string']},\n",
        "     {'default': None,\n",
        "      'name': u'recordGroupKeySequence',\n",
        "      'type': [u'null', u'string']},\n",
        "     {'default': None,\n",
        "      'name': u'recordGroupLibrary',\n",
        "      'type': [u'null', u'string']},\n",
        "     {'default': None,\n",
        "      'name': u'recordGroupPredictedMedianInsertSize',\n",
        "      'type': [u'null', u'int']},\n",
        "     {'default': None,\n",
        "      'name': u'recordGroupPlatform',\n",
        "      'type': [u'null', u'string']},\n",
        "     {'default': None,\n",
        "      'name': u'recordGroupPlatformUnit',\n",
        "      'type': [u'null', u'string']},\n",
        "     {'default': None,\n",
        "      'name': u'recordGroupSample',\n",
        "      'type': [u'null', u'string']}],\n",
        "    'name': u'ADAMPileup',\n",
        "    'namespace': u'org.bdgenomics.adam.avro',\n",
        "    'type': u'record'}},\n",
        "  {'name': u'readEvidence',\n",
        "   'type': {'items': {'fields': [{'default': None,\n",
        "       'doc': u'* These two fields, along with the two\\n     * reference{Length, Url} fields at the bottom\\n     * of the schema, collectively form the contents\\n     * of the Sequence Dictionary embedded in the these\\n     * records from the BAM / SAM itself.\\n     * TODO: this should be moved to ADAMContig',\n",
        "       'name': u'referenceName',\n",
        "       'type': [u'null', u'string']},\n",
        "      {'default': None, 'name': u'referenceId', 'type': [u'null', u'int']},\n",
        "      {'default': None, 'name': u'start', 'type': [u'null', u'long']},\n",
        "      {'default': None, 'name': u'mapq', 'type': [u'null', u'int']},\n",
        "      {'default': None, 'name': u'readName', 'type': [u'null', u'string']},\n",
        "      {'default': None, 'name': u'sequence', 'type': [u'null', u'string']},\n",
        "      {'default': None,\n",
        "       'name': u'mateReference',\n",
        "       'type': [u'null', u'string']},\n",
        "      {'default': None,\n",
        "       'name': u'mateAlignmentStart',\n",
        "       'type': [u'null', u'long']},\n",
        "      {'default': None, 'name': u'cigar', 'type': [u'null', u'string']},\n",
        "      {'default': None, 'name': u'qual', 'type': [u'null', u'string']},\n",
        "      {'default': None,\n",
        "       'name': u'recordGroupName',\n",
        "       'type': [u'null', u'string']},\n",
        "      {'default': None, 'name': u'recordGroupId', 'type': [u'null', u'int']},\n",
        "      {'default': False, 'name': u'readPaired', 'type': [u'boolean', u'null']},\n",
        "      {'default': False, 'name': u'properPair', 'type': [u'boolean', u'null']},\n",
        "      {'default': False, 'name': u'readMapped', 'type': [u'boolean', u'null']},\n",
        "      {'default': False, 'name': u'mateMapped', 'type': [u'boolean', u'null']},\n",
        "      {'default': False,\n",
        "       'name': u'readNegativeStrand',\n",
        "       'type': [u'boolean', u'null']},\n",
        "      {'default': False,\n",
        "       'name': u'mateNegativeStrand',\n",
        "       'type': [u'boolean', u'null']},\n",
        "      {'default': False,\n",
        "       'name': u'firstOfPair',\n",
        "       'type': [u'boolean', u'null']},\n",
        "      {'default': False,\n",
        "       'name': u'secondOfPair',\n",
        "       'type': [u'boolean', u'null']},\n",
        "      {'default': False,\n",
        "       'name': u'primaryAlignment',\n",
        "       'type': [u'boolean', u'null']},\n",
        "      {'default': False,\n",
        "       'name': u'failedVendorQualityChecks',\n",
        "       'type': [u'boolean', u'null']},\n",
        "      {'default': False,\n",
        "       'name': u'duplicateRead',\n",
        "       'type': [u'boolean', u'null']},\n",
        "      {'default': None,\n",
        "       'name': u'mismatchingPositions',\n",
        "       'type': [u'null', u'string']},\n",
        "      {'default': None, 'name': u'attributes', 'type': [u'null', u'string']},\n",
        "      {'default': None,\n",
        "       'name': u'recordGroupSequencingCenter',\n",
        "       'type': [u'null', u'string']},\n",
        "      {'default': None,\n",
        "       'name': u'recordGroupDescription',\n",
        "       'type': [u'null', u'string']},\n",
        "      {'default': None,\n",
        "       'name': u'recordGroupRunDateEpoch',\n",
        "       'type': [u'null', u'long']},\n",
        "      {'default': None,\n",
        "       'name': u'recordGroupFlowOrder',\n",
        "       'type': [u'null', u'string']},\n",
        "      {'default': None,\n",
        "       'name': u'recordGroupKeySequence',\n",
        "       'type': [u'null', u'string']},\n",
        "      {'default': None,\n",
        "       'name': u'recordGroupLibrary',\n",
        "       'type': [u'null', u'string']},\n",
        "      {'default': None,\n",
        "       'name': u'recordGroupPredictedMedianInsertSize',\n",
        "       'type': [u'null', u'int']},\n",
        "      {'default': None,\n",
        "       'name': u'recordGroupPlatform',\n",
        "       'type': [u'null', u'string']},\n",
        "      {'default': None,\n",
        "       'name': u'recordGroupPlatformUnit',\n",
        "       'type': [u'null', u'string']},\n",
        "      {'default': None,\n",
        "       'name': u'recordGroupSample',\n",
        "       'type': [u'null', u'string']},\n",
        "      {'default': None, 'name': u'mateReferenceId', 'type': [u'null', u'int']},\n",
        "      {'default': None,\n",
        "       'name': u'referenceLength',\n",
        "       'type': [u'null', u'long']},\n",
        "      {'default': None, 'name': u'referenceUrl', 'type': [u'null', u'string']},\n",
        "      {'default': None,\n",
        "       'name': u'mateReferenceLength',\n",
        "       'type': [u'null', u'long']},\n",
        "      {'default': None,\n",
        "       'name': u'mateReferenceUrl',\n",
        "       'type': [u'null', u'string']},\n",
        "      {'default': None, 'name': u'origQual', 'type': [u'null', u'string']}],\n",
        "     'name': u'ADAMRecord',\n",
        "     'namespace': u'org.bdgenomics.adam.avro',\n",
        "     'type': u'record'},\n",
        "    'type': 'array'}}],\n",
        " 'name': u'ADAMNestedPileup',\n",
        " 'namespace': u'org.bdgenomics.adam.avro',\n",
        " 'type': u'record'}"
       ]
      }
     ],
     "prompt_number": 54
    },
    {
     "cell_type": "code",
     "collapsed": false,
     "input": [
      "ADAM_nested_pileup = {'pileup': ADAM_pileup, 'readEvidence': [ADAM_record]}"
     ],
     "language": "python",
     "metadata": {},
     "outputs": []
    }
   ],
   "metadata": {}
  }
 ]
}