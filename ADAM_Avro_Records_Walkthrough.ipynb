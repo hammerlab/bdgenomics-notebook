{
 "metadata": {
  "name": ""
 },
 "nbformat": 3,
 "nbformat_minor": 0,
 "worksheets": [
  {
   "cells": [
    {
     "cell_type": "code",
     "collapsed": false,
     "input": [
      "import avro.protocol as apr\n",
      "from avro.datafile import DataFileReader, DataFileWriter\n",
      "from avro.io import DatumReader, DatumWriter"
     ],
     "language": "python",
     "metadata": {},
     "outputs": [],
     "prompt_number": 1
    },
    {
     "cell_type": "markdown",
     "metadata": {},
     "source": [
      "# Loading the Protocol\n",
      "[ADAM's primary records](https://github.com/bigdatagenomics/adam/blob/master/adam-format/src/main/resources/avro/adam.avdl) are described using the Avro interface description language. In order to be parsed by Python's Avro library, the IDL representation must be transformed to the standard JSON Avro Protocol representation using avro-tools [(described here)](http://avro.apache.org/docs/1.7.5/gettingstartedjava.html). \n",
      "\n",
      "Once this is done, the protocol may be loaded and parsed by the Python library. The API isn't documented (well, it may be, and probably is, but I cannot find it), but the code is easy to read. We want to inspect the types (which will include records) that ADAM uses."
     ]
    },
    {
     "cell_type": "code",
     "collapsed": false,
     "input": [
      "protocol = apr.parse(open(\"adam.avpr\", \"r\").read()) \n",
      "[tp for tp in protocol.types_dict if protocol.types_dict[tp].type == 'record'] # we're ignoring enums and other schema types"
     ],
     "language": "python",
     "metadata": {},
     "outputs": [
      {
       "metadata": {},
       "output_type": "pyout",
       "prompt_number": 2,
       "text": [
        "[u'VariantCallingAnnotations',\n",
        " u'ADAMVariant',\n",
        " u'ADAMNestedPileup',\n",
        " u'ADAMContig',\n",
        " u'ADAMNucleotideContigFragment',\n",
        " u'ADAMGenotype',\n",
        " u'ADAMDatabaseVariantAnnotation',\n",
        " u'ADAMPileup',\n",
        " u'ADAMRecord',\n",
        " u'VariantEffect']"
       ]
      }
     ],
     "prompt_number": 2
    },
    {
     "cell_type": "markdown",
     "metadata": {},
     "source": [
      "# Writing and Reading a Record\n",
      "We'll choose the ADAMContig record to look at first. We can inspect the JSON schema of the record, and see that which fields (and their respective types) that record contains. \n",
      "\n",
      "We'll write a few records to a new file, using some arbitrary data (but of the correct type), and then load that file and print the Python representations of those records. This is about all there is to do with these records.\n",
      "\n",
      "We'll start with the Contig record, which is used to describe regions of DNA that has overlapping reads."
     ]
    },
    {
     "cell_type": "code",
     "collapsed": false,
     "input": [
      "scm = protocol.types_dict['ADAMContig']\n",
      "scm.to_json()"
     ],
     "language": "python",
     "metadata": {},
     "outputs": [
      {
       "metadata": {},
       "output_type": "pyout",
       "prompt_number": 3,
       "text": [
        "{'fields': [{'default': None, 'name': u'contigId', 'type': [u'null', u'int']},\n",
        "  {'default': None, 'name': u'contigName', 'type': [u'null', u'string']},\n",
        "  {'default': None, 'name': u'contigLength', 'type': [u'null', u'long']},\n",
        "  {'default': None, 'name': u'contigMD5', 'type': [u'null', u'string']},\n",
        "  {'default': None, 'name': u'referenceURL', 'type': [u'null', u'string']}],\n",
        " 'name': u'ADAMContig',\n",
        " 'namespace': u'org.bdgenomics.adam.avro',\n",
        " 'type': u'record'}"
       ]
      }
     ],
     "prompt_number": 3
    },
    {
     "cell_type": "code",
     "collapsed": false,
     "input": [
      "with DataFileWriter(open(\"contigs.avro\", \"w\"), DatumWriter(), scm) as contig_writer:\n",
      "    contig_writer.append({'contigId':1234, 'nonsense':\"this won't show up\"})\n",
      "    contig_writer.append({'contigId':9230, 'referenceURL':'http://data.dna/223', 'contigName':\"1Nabc\",\n",
      "                          'contigMD5':\"8743b52063cd84097a65d1633f5c74f5\", 'contigLength':7781})"
     ],
     "language": "python",
     "metadata": {},
     "outputs": [],
     "prompt_number": 9
    },
    {
     "cell_type": "code",
     "collapsed": false,
     "input": [
      "with DataFileReader(open(\"contigs.avro\", \"r\"), DatumReader()) as contigs:\n",
      "    for ctg in contigs:\n",
      "        print ctg"
     ],
     "language": "python",
     "metadata": {},
     "outputs": [
      {
       "output_type": "stream",
       "stream": "stdout",
       "text": [
        "{u'contigMD5': None, u'contigId': 1234, u'contigLength': None, u'referenceURL': None, u'contigName': None}\n",
        "{u'contigMD5': u'8743b52063cd84097a65d1633f5c74f5', u'contigId': 9230, u'contigLength': 7781, u'referenceURL': u'http://data.dna/223', u'contigName': u'1Nabc'}\n"
       ]
      }
     ],
     "prompt_number": 10
    },
    {
     "cell_type": "markdown",
     "metadata": {},
     "source": [
      "Below we'll do the same thing with some other ADAM Records."
     ]
    },
    {
     "cell_type": "code",
     "collapsed": false,
     "input": [
      "scm = protocol.types_dict['ADAMVariant']\n",
      "scm.to_json()"
     ],
     "language": "python",
     "metadata": {},
     "outputs": [
      {
       "metadata": {},
       "output_type": "pyout",
       "prompt_number": 11,
       "text": [
        "{'fields': [{'default': None,\n",
        "   'name': u'contig',\n",
        "   'type': [u'null',\n",
        "    {'fields': [{'default': None,\n",
        "       'name': u'contigId',\n",
        "       'type': [u'null', u'int']},\n",
        "      {'default': None, 'name': u'contigName', 'type': [u'null', u'string']},\n",
        "      {'default': None, 'name': u'contigLength', 'type': [u'null', u'long']},\n",
        "      {'default': None, 'name': u'contigMD5', 'type': [u'null', u'string']},\n",
        "      {'default': None,\n",
        "       'name': u'referenceURL',\n",
        "       'type': [u'null', u'string']}],\n",
        "     'name': u'ADAMContig',\n",
        "     'namespace': u'org.bdgenomics.adam.avro',\n",
        "     'type': u'record'}]},\n",
        "  {'default': None, 'name': u'position', 'type': [u'null', u'long']},\n",
        "  {'name': u'referenceAllele', 'type': u'string'},\n",
        "  {'name': u'variantAllele', 'type': u'string'}],\n",
        " 'name': u'ADAMVariant',\n",
        " 'namespace': u'org.bdgenomics.adam.avro',\n",
        " 'type': u'record'}"
       ]
      }
     ],
     "prompt_number": 11
    },
    {
     "cell_type": "code",
     "collapsed": false,
     "input": [],
     "language": "python",
     "metadata": {},
     "outputs": []
    }
   ],
   "metadata": {}
  }
 ]
}